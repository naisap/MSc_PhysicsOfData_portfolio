{
 "cells": [
  {
   "cell_type": "markdown",
   "id": "c0d4ba47",
   "metadata": {},
   "source": [
    "# LAB05"
   ]
  },
  {
   "cell_type": "code",
   "execution_count": 1,
   "id": "01f2da83",
   "metadata": {
    "scrolled": true,
    "vscode": {
     "languageId": "r"
    }
   },
   "outputs": [
    {
     "name": "stderr",
     "output_type": "stream",
     "text": [
      "Linked to JAGS 4.3.2\n",
      "\n",
      "Loaded modules: basemod,bugs\n",
      "\n"
     ]
    }
   ],
   "source": [
    "library(ggplot2)\n",
    "library(cowplot)\n",
    "library(coda)\n",
    "library(rjags)"
   ]
  },
  {
   "cell_type": "markdown",
   "id": "7b9694af",
   "metadata": {},
   "source": [
    "## Exercise 1\n",
    "- Ladislaus Josephovich Bortkiewicz was a Russian economist and statistician. He noted that the Poisson distribution can be very useful in applied statistics when describing low-frequency events in a large population. In a famous example he showed that the number of deaths by horse kick among the Prussian army follows the Poisson distribution."
   ]
  },
  {
   "cell_type": "code",
   "execution_count": 3,
   "id": "2fbefde4",
   "metadata": {
    "vscode": {
     "languageId": "r"
    }
   },
   "outputs": [
    {
     "data": {
      "text/html": [
       "<table>\n",
       "<tbody>\n",
       "\t<tr><th scope=row>y_death_soldiers</th><td>  0</td><td> 1 </td><td> 2 </td><td> 3 </td><td>4  </td><td>5  </td></tr>\n",
       "\t<tr><th scope=row>n1_obs</th><td>109</td><td>65 </td><td>22 </td><td> 3 </td><td>1  </td><td>0  </td></tr>\n",
       "\t<tr><th scope=row>n2_obs</th><td>144</td><td>91 </td><td>32 </td><td>11 </td><td>2  </td><td>0  </td></tr>\n",
       "</tbody>\n",
       "</table>\n"
      ],
      "text/latex": [
       "\\begin{tabular}{r|llllll}\n",
       "\ty\\_death\\_soldiers &   0 &  1  &  2  &  3  & 4   & 5  \\\\\n",
       "\tn1\\_obs & 109 & 65  & 22  &  3  & 1   & 0  \\\\\n",
       "\tn2\\_obs & 144 & 91  & 32  & 11  & 2   & 0  \\\\\n",
       "\\end{tabular}\n"
      ],
      "text/markdown": [
       "\n",
       "| y_death_soldiers |   0 |  1  |  2  |  3  | 4   | 5   |\n",
       "| n1_obs | 109 | 65  | 22  |  3  | 1   | 0   |\n",
       "| n2_obs | 144 | 91  | 32  | 11  | 2   | 0   |\n",
       "\n"
      ],
      "text/plain": [
       "                 [,1] [,2] [,3] [,4] [,5] [,6]\n",
       "y_death_soldiers   0   1    2    3   4    5   \n",
       "n1_obs           109  65   22    3   1    0   \n",
       "n2_obs           144  91   32   11   2    0   "
      ]
     },
     "metadata": {},
     "output_type": "display_data"
    }
   ],
   "source": [
    "# sets of observations taken over a fixed large time interval in two different corps\n",
    "y_death_soldiers = c(0:5)\n",
    "n1_obs = c(109, 65, 22, 3, 1, 0)\n",
    "n2_obs = c(144, 91, 32, 11, 2, 0)\n",
    "\n",
    "# create table\n",
    "df <- data.frame(y_death_soldiers, n1_obs, n2_obs)\n",
    "t(df)"
   ]
  },
  {
   "cell_type": "code",
   "execution_count": 4,
   "id": "ab843fa5",
   "metadata": {
    "vscode": {
     "languageId": "r"
    }
   },
   "outputs": [],
   "source": [
    "# data sequence generation\n",
    "x <- seq(0,1, length.out = 100)\n",
    "\n",
    "data1 <- rep(df[,1], df[,2])\n",
    "data2 <- rep(df[,1], df[,3])"
   ]
  },
  {
   "cell_type": "markdown",
   "id": "c1a8316e",
   "metadata": {},
   "source": [
    "#### (a) assuming a uniform prior, compute and plot the posterior distribution for λ, the death rate over the measurement time. Determine the posterior mean, median and variance, and compute the 95% credibility interval"
   ]
  },
  {
   "cell_type": "code",
   "execution_count": 5,
   "id": "e44b7580",
   "metadata": {
    "vscode": {
     "languageId": "r"
    }
   },
   "outputs": [],
   "source": [
    "# prior uniform distribution\n",
    "alpha_u_0 <- 1\n",
    "lambda_u_0 <- 0\n",
    "prior_uniform <- dgamma(x, shape=alpha_u_0, scale=1/lambda_u_0)\n",
    "\n",
    "# posterior uniform distribution - 1st obs\n",
    "alpha_u <- sum(data1) + 1\n",
    "lambda_u <- length(data1)\n",
    "posterior_uniform_n1 <- dgamma(x, shape=alpha_u, scale=1/lambda_u)\n",
    "posterior_uniform_n1 <- posterior_uniform_n1/sum(posterior_uniform_n1) #normalized\n",
    "\n",
    "# posterior uniform distribution - 2nd obs\n",
    "alpha_prime_u <- sum(data2) + alpha_u\n",
    "lambda_prime_u <- length(data2) + lambda_u\n",
    "posterior_uniform_n2 <- dgamma(x, shape=alpha_prime_u, scale=1/lambda_prime_u)\n",
    "posterior_uniform_n2 <- posterior_uniform_n2/sum(posterior_uniform_n2) #normalized\n",
    "\n",
    "## Statistical moments and median\n",
    "# expected value\n",
    "mean = alpha_prime_u/lambda_prime_u\n",
    "# variance\n",
    "var = alpha_prime_u/(lambda_prime_u**2)\n",
    "# median\n",
    "median = qgamma(0.5, shape = alpha_prime_u, scale = 1/lambda_prime_u)\n",
    "\n",
    "## Intervals - 95% credibility\n",
    "intervals <- qgamma(c(0.025, 0.975), shape = alpha_prime_u, scale = 1/lambda_prime_u)"
   ]
  },
  {
   "cell_type": "code",
   "execution_count": 6,
   "id": "a529676f",
   "metadata": {
    "vscode": {
     "languageId": "r"
    }
   },
   "outputs": [
    {
     "name": "stderr",
     "output_type": "stream",
     "text": [
      "Warning message:\n",
      "\"Removed 41 rows containing missing values (geom_path).\""
     ]
    },
    {
     "data": {
      "image/png": "[encoded data removed]",
      "text/plain": [
       "plot without title"
      ]
     },
     "metadata": {},
     "output_type": "display_data"
    }
   ],
   "source": [
    "# plot\n",
    "df1 <- data.frame(x, posterior_uniform_n2)\n",
    "\n",
    "ggplot( data= df1, aes(x=x, y=posterior_uniform_n2)) +\n",
    "    geom_line() +\n",
    "    geom_vline(xintercept = intervals[1], linetype = \"dashed\", colour = \"blue\") +\n",
    "    geom_vline(xintercept = intervals[2], linetype = \"dashed\", colour = \"blue\") +\n",
    "    geom_vline(xintercept = median, linetype = \"dashed\", colour = \"black\") +\n",
    "    \n",
    "    geom_text(x = mean-0.01, y = 0.06, angle = 90, label = paste(\"Mean:\", round(mean, 3)), size = 5, color = \"black\") + \n",
    "    geom_text(x = 0.5, y = 0.09, label = paste(\"Median:\", round(median, 3)), size = 5, color = \"black\") + \n",
    "    geom_text(x = 0.5, y = 0.085, label = paste(\"Variance:\", round(var, 4)), size = 5, color = \"black\") + \n",
    "    \n",
    "    geom_text(x = intervals[1]-0.01, y = 0.06, angle = 90, label = paste(\"Lower (0.025):\", round(intervals[1], 3)), size = 4.5, color = \"blue\") + \n",
    "    geom_text(x = intervals[2]-0.01, y = 0.06, angle = 90, label = paste(\"Upper (0.975):\", round(intervals[2], 3)), size = 4.5, color = \"blue\") + \n",
    "    \n",
    "    labs(title = \"Posterior Uniform Distribution - 95% Credibility Intervals\", x = expression(lambda), y = expression(paste(\"p(\", lambda, \"|y)\")), color = \"Distributions\") +\n",
    "    theme(legend.position = c(0.7, 0.2)) +\n",
    "    xlim(mean-0.3, mean+0.3) +\n",
    "    theme_bw()"
   ]
  },
  {
   "cell_type": "markdown",
   "id": "d4398be7",
   "metadata": {},
   "source": [
    "#### (b) assuming now a Jeffreys’ prior, $g(\\lambda) \\propto 1/\\sqrt{\\lambda} $, with $\\lambda > 0$ compute and plot the posterior distribution for $\\lambda$, the death rate over the measurement time. Determine the posterior mean, median and variance, and compute the 95% credibility interval."
   ]
  },
  {
   "cell_type": "code",
   "execution_count": 7,
   "id": "f24f9f00",
   "metadata": {
    "vscode": {
     "languageId": "r"
    }
   },
   "outputs": [],
   "source": [
    "# Jeffrey'sprior distribution\n",
    "alpha_j_0 <- 1/2\n",
    "lambda_j_0 <- 0\n",
    "prior_j <- dgamma(x, shape = alpha_j_0, scale = 1/lambda_j_0) \n",
    "prior_j <- prior_j/sum(prior_j) #normalized\n",
    "\n",
    "# Jeffrey's posterior distribution - 1st obs\n",
    "alpha_j_1 <- sum(data1) + alpha_j_0\n",
    "lambda_j_1 <- length(data1) + lambda_j_0\n",
    "posterior_j_n1 <- dgamma(x, shape=alpha_j_1, scale=1/lambda_j_1)\n",
    "posterior_j_n1 <- posterior_j_n1/sum(posterior_j_n1) #normalized\n",
    "\n",
    "# Jeffrey's posterior distribution - 2nd obs\n",
    "alpha_prime_j <- sum(data2) + alpha_j_1\n",
    "lambda_prime_j <- length(data2) + lambda_j_1\n",
    "posterior_j_n2 <- dgamma(x, shape=alpha_prime_j, scale=1/lambda_prime_j)\n",
    "posterior_j_n2 <- posterior_j_n2/sum(posterior_j_n2) #normalized\n",
    "\n",
    "## Statistical moments and median\n",
    "# expected value\n",
    "mean = alpha_prime_j/lambda_prime_j\n",
    "# variance\n",
    "var = alpha_prime_j/(lambda_prime_j**2)\n",
    "# median\n",
    "median = qgamma(0.5, shape = alpha_prime_j, scale = 1/lambda_prime_j)\n",
    "\n",
    "## Intervals - 95% credibility\n",
    "intervals <- qgamma(c(0.025, 0.975), shape = alpha_prime_j, scale = 1/lambda_prime_j)"
   ]
  },
  {
   "cell_type": "code",
   "execution_count": 8,
   "id": "b0327beb",
   "metadata": {
    "vscode": {
     "languageId": "r"
    }
   },
   "outputs": [
    {
     "name": "stderr",
     "output_type": "stream",
     "text": [
      "Warning message:\n",
      "\"Removed 40 rows containing missing values (geom_path).\""
     ]
    },
    {
     "data": {
      "image/png": "[encoded data removed]",
      "text/plain": [
       "plot without title"
      ]
     },
     "metadata": {},
     "output_type": "display_data"
    }
   ],
   "source": [
    "# plot\n",
    "df2 <- data.frame(x, posterior_j_n2)\n",
    "\n",
    "ggplot( data= df2, aes(x=x, y=posterior_j_n2)) +\n",
    "    geom_line() +\n",
    "    geom_vline(xintercept = intervals[1], linetype = \"dashed\", colour = \"red\") +\n",
    "    geom_vline(xintercept = intervals[2], linetype = \"dashed\", colour = \"red\") +\n",
    "    geom_vline(xintercept = median, linetype = \"dashed\", colour = \"black\") +\n",
    "    \n",
    "    geom_text(x = mean-0.01, y = 0.06, angle = 90, label = paste(\"Mean:\", round(mean, 3)), size = 5, color = \"black\") + \n",
    "    geom_text(x = 0.5, y = 0.09, label = paste(\"Median:\", round(median, 3)), size = 5, color = \"black\") + \n",
    "    geom_text(x = 0.5, y = 0.085, label = paste(\"Variance:\", round(var, 4)), size = 5, color = \"black\") + \n",
    "    \n",
    "    geom_text(x = intervals[1]-0.01, y = 0.06, angle = 90, label = paste(\"Lower (0.025):\", round(intervals[1], 3)), size = 4.5, color = \"red\") + \n",
    "    geom_text(x = intervals[2]-0.01, y = 0.06, angle = 90, label = paste(\"Upper (0.975):\", round(intervals[2], 3)), size = 4.5, color = \"red\") + \n",
    "    \n",
    "    labs(title = \"Jeffery's Posterior Distribution - 95% Credibility Intervals\", x = expression(lambda), y = expression(paste(\"p(\", lambda, \"|y)\")), color = \"Distributions\") +\n",
    "    theme(legend.position = c(0.7, 0.2)) +\n",
    "    xlim(mean-0.3, mean+0.3) +\n",
    "    theme_bw()"
   ]
  },
  {
   "cell_type": "markdown",
   "id": "21684826",
   "metadata": {},
   "source": [
    "## Exercise 2\n",
    "\n",
    "- solve Exercise 1 with a Markov Chain Monte Carlo. Build your own MCMC, using the functions introduced during lectures, or using a MCM library like JAGS."
   ]
  },
  {
   "cell_type": "code",
   "execution_count": 9,
   "id": "2983be5d",
   "metadata": {
    "vscode": {
     "languageId": "r"
    }
   },
   "outputs": [],
   "source": [
    "MCMC.func <- function(theta.init, sigma, n_samples, shape0, shape1) { \n",
    "        # empty vector for accepted samples\n",
    "        values <- c() \n",
    "        # initialize the chain at some value\n",
    "        theta_init <- dgamma(theta.init, shape = shape0, scale = 1/(shape1))\n",
    "        \n",
    "        for (i in 1:n_samples){\n",
    "            \n",
    "            # draw a random sample fron a distribution\n",
    "            sample <- rnorm(1, mean=0, sd = sigma)\n",
    "            # new candidate sample\n",
    "            theta_new <- dgamma(sample, shape = shape0, scale = 1/shape1)\n",
    "            \n",
    "            # dedice whether to accept or not the new candidate sample\n",
    "            if (theta_new > theta_init){\n",
    "                theta_init <- theta_new\n",
    "                x <- sample\n",
    "            }\n",
    "            else {\n",
    "                p <- theta_new/theta_init\n",
    "                t <- runif(1, min = 0, max = 1)\n",
    "                \n",
    "                if (t <= p){\n",
    "                    theta_init <- theta_new\n",
    "                    x <- sample\n",
    "                }\n",
    "                else {\n",
    "                    theta_init <- theta_init\n",
    "                    x <- theta.init\n",
    "                }\n",
    "            }\n",
    "        \n",
    "        values <- c(values,x)\n",
    "        theta.init <- x\n",
    "        }\n",
    "    \n",
    "        return(values)\n",
    "    }"
   ]
  },
  {
   "cell_type": "code",
   "execution_count": 12,
   "id": "55480c4b",
   "metadata": {
    "vscode": {
     "languageId": "r"
    }
   },
   "outputs": [
    {
     "name": "stderr",
     "output_type": "stream",
     "text": [
      "Warning message:\n",
      "\"Removed 13 rows containing non-finite values (stat_bin).\"Warning message:\n",
      "\"Removed 13 rows containing non-finite values (stat_density).\"Warning message:\n",
      "\"Removed 2 rows containing missing values (geom_bar).\""
     ]
    },
    {
     "data": {
      "image/png": "[encoded data removed]",
      "text/plain": [
       "plot without title"
      ]
     },
     "metadata": {},
     "output_type": "display_data"
    }
   ],
   "source": [
    "# Assuming an Uniform Prior Distribution\n",
    "\n",
    "mcmc_uniform <- MCMC.func(0.3, 0.5, 10000, alpha_prime_u, lambda_prime_u)\n",
    "df_mcmc <- data.frame(mcmc_uniform)\n",
    "\n",
    "# plot histogram\n",
    "ggplot(df_mcmc, aes(x = mcmc_uniform)) +\n",
    "    geom_histogram(aes(y = stat(density)), color=\"gray\", bins=30)+ #binwidth = 0.005) +\n",
    "    geom_density(lwd = 1, linetype = 1) +\n",
    "\n",
    "    geom_vline(aes(xintercept=mean(mcmc_uniform)), color=\"red\", linetype=\"dashed\", size=1) +\n",
    "    geom_text(x=0.55, y=13, label=paste(\"Mean:\", round(mean(mcmc_uniform), 4)), color=\"red\", size=5) +\n",
    "    \n",
    "    labs(x =expression(lambda), y = \"Counts\", color = \"\") +\n",
    "    ggtitle(\"MCMC reconstruction for Uniform posterior\") +\n",
    "    theme_bw() + \n",
    "    xlim(mean(mcmc_uniform)-0.2, mean(mcmc_uniform)+0.2)"
   ]
  },
  {
   "cell_type": "code",
   "execution_count": 15,
   "id": "d58d7f89",
   "metadata": {
    "vscode": {
     "languageId": "r"
    }
   },
   "outputs": [
    {
     "name": "stderr",
     "output_type": "stream",
     "text": [
      "Warning message:\n",
      "\"Removed 12 rows containing non-finite values (stat_bin).\"Warning message:\n",
      "\"Removed 12 rows containing non-finite values (stat_density).\"Warning message:\n",
      "\"Removed 2 rows containing missing values (geom_bar).\""
     ]
    },
    {
     "data": {
      "image/png": "[encoded data removed]",
      "text/plain": [
       "plot without title"
      ]
     },
     "metadata": {},
     "output_type": "display_data"
    }
   ],
   "source": [
    "# Assuming a Jeffrey's Prior Distribution \n",
    "\n",
    "mcmc_jeffrey <- MCMC.func(0.3, 0.5, 10000, alpha_prime_j, lambda_prime_j)\n",
    "df_mcmc <- data.frame(mcmc_jeffrey)\n",
    "\n",
    "# plot histogram\n",
    "ggplot(df_mcmc, aes(x = mcmc_jeffrey)) +\n",
    "    geom_histogram(aes(y = stat(density)), color=\"gray\", bins=30)+ #binwidth = 0.005) +\n",
    "    geom_density(lwd = 1, linetype = 1) +\n",
    "\n",
    "    geom_vline(aes(xintercept=mean(mcmc_jeffrey)), color=\"red\", linetype=\"dashed\", size=1) +\n",
    "    geom_text(x=0.55, y=13, label=paste(\"Mean:\", round(mean(mcmc_jeffrey), 4)), color=\"red\", size=5) +\n",
    "    \n",
    "    labs(x =expression(lambda), y = \"Counts\", color = \"\") +\n",
    "    ggtitle(\"MCMC reconstruction for Jeffrey's posterior\") +\n",
    "    theme_bw() + \n",
    "    xlim(mean(mcmc_jeffrey)-0.2, mean(mcmc_jeffrey)+0.2)"
   ]
  },
  {
   "cell_type": "markdown",
   "id": "656aa742",
   "metadata": {},
   "source": [
    "## Exercise 3\n",
    "- A study on water quality of streams, a high level of bacter X was defined as a level greater than 100 per 100 ml of stream water. n = 116 samples were taken from streams having a high environmental impact on pandas. Out of these, y = 11 had a high bacter X level.\n",
    "- indicating with p the probability that a sample of water taken from the stream has a high bacter X level"
   ]
  },
  {
   "cell_type": "markdown",
   "id": "63af3692",
   "metadata": {},
   "source": [
    "#### (a) find the frequentist estimator for p"
   ]
  },
  {
   "cell_type": "code",
   "execution_count": 16,
   "id": "59670101",
   "metadata": {
    "vscode": {
     "languageId": "r"
    }
   },
   "outputs": [
    {
     "name": "stdout",
     "output_type": "stream",
     "text": [
      "Probability that a sample of water taken from the stream has a high bacter X level:  0.09482759"
     ]
    }
   ],
   "source": [
    "y <- 11     # high bacter X level\n",
    "n <- 116    # samples\n",
    "\n",
    "# calculate frequentist estimator\n",
    "p <- y/n\n",
    "cat(\"Probability that a sample of water taken from the stream has a high bacter X level: \", p)"
   ]
  },
  {
   "cell_type": "markdown",
   "id": "7f58b337",
   "metadata": {},
   "source": [
    "#### (b) using a Beta(1, 10) prior for p, calculate and posterior distribution P(p | y)"
   ]
  },
  {
   "cell_type": "code",
   "execution_count": 17,
   "id": "d2198577",
   "metadata": {
    "vscode": {
     "languageId": "r"
    }
   },
   "outputs": [
    {
     "data": {
      "image/png": "[encoded data removed]",
      "text/plain": [
       "plot without title"
      ]
     },
     "metadata": {},
     "output_type": "display_data"
    }
   ],
   "source": [
    "q <- seq(0, 1, length.out=501)\n",
    "\n",
    "# Posterior Beta(1,10) distribution\n",
    "alpha_post <- 1 + y\n",
    "beta_post <- 10 + (n - y)\n",
    "p.post <- dbeta(q, shape1=alpha_post, shape2=beta_post)\n",
    "p.post.normalized <- p.post/sum(p.post)\n",
    "\n",
    "# store in dataframe\n",
    "df <- data.frame(q, p.post.normalized)\n",
    "\n",
    "# plot the posterior\n",
    "ggplot(data = df, aes(x = q, y = p.post.normalized)) +\n",
    "    geom_line() +\n",
    "    labs(x = \"p\", y = \"P(p|y)\", color = \"Distributions\") +\n",
    "    theme(legend.position = \"bottom\", legend.box = \"horizontal\") +\n",
    "    ggtitle(\"Posterior distribution\") +\n",
    "    theme_bw()"
   ]
  },
  {
   "cell_type": "markdown",
   "id": "ed98d4cf",
   "metadata": {},
   "source": [
    "#### (c) find the bayesian estimator for p, the posterior mean and variance, and a 95% credible interval."
   ]
  },
  {
   "cell_type": "code",
   "execution_count": 18,
   "id": "e451f371",
   "metadata": {
    "vscode": {
     "languageId": "r"
    }
   },
   "outputs": [
    {
     "data": {
      "text/html": [
       "<table>\n",
       "<tbody>\n",
       "\t<tr><th scope=row>mean</th><td>0.0944881890</td></tr>\n",
       "\t<tr><th scope=row>var</th><td>0.0006684388</td></tr>\n",
       "\t<tr><th scope=row>lower_credibility</th><td>0.0501852163</td></tr>\n",
       "\t<tr><th scope=row>upper_credibility</th><td>0.1508379213</td></tr>\n",
       "</tbody>\n",
       "</table>\n"
      ],
      "text/latex": [
       "\\begin{tabular}{r|l}\n",
       "\tmean & 0.0944881890\\\\\n",
       "\tvar & 0.0006684388\\\\\n",
       "\tlower\\_credibility & 0.0501852163\\\\\n",
       "\tupper\\_credibility & 0.1508379213\\\\\n",
       "\\end{tabular}\n"
      ],
      "text/markdown": [
       "\n",
       "| mean | 0.0944881890 |\n",
       "| var | 0.0006684388 |\n",
       "| lower_credibility | 0.0501852163 |\n",
       "| upper_credibility | 0.1508379213 |\n",
       "\n"
      ],
      "text/plain": [
       "                  [,1]        \n",
       "mean              0.0944881890\n",
       "var               0.0006684388\n",
       "lower_credibility 0.0501852163\n",
       "upper_credibility 0.1508379213"
      ]
     },
     "metadata": {},
     "output_type": "display_data"
    }
   ],
   "source": [
    "bayesian_estimator <- alpha_post/(alpha_post+beta_post)\n",
    "\n",
    "mean <- bayesian_estimator\n",
    "var <- (alpha_post*beta_post)/((alpha_post+beta_post)^2 *(alpha_post+beta_post+1))\n",
    "\n",
    "credibility <- qbeta(c(0.025, 0.975), alpha_post, beta_post)\n",
    "\n",
    "df_4 <- data.frame(mean,var,lower_credibility=credibility[1],upper_credibility=credibility[2])\n",
    "t(df_4)"
   ]
  },
  {
   "cell_type": "markdown",
   "id": "04e3970a",
   "metadata": {},
   "source": [
    "#### (d) test the hypotesis $H_{o} : p = 0.1 \\; versus \\; H_1 : p 6= 0.1$ at 5% level of significance with both the frequentist and bayesian approach\n",
    "- a new measurement, performed one month later on n = 165 water samples, gives y = 9 high bacter X level\n"
   ]
  },
  {
   "cell_type": "code",
   "execution_count": 19,
   "id": "e548a39f",
   "metadata": {
    "vscode": {
     "languageId": "r"
    }
   },
   "outputs": [],
   "source": [
    "x <- seq(1, n, length = n)\n",
    "significance <- 0.05"
   ]
  },
  {
   "cell_type": "code",
   "execution_count": 20,
   "id": "cb4fcad8",
   "metadata": {
    "vscode": {
     "languageId": "r"
    }
   },
   "outputs": [
    {
     "name": "stderr",
     "output_type": "stream",
     "text": [
      "Warning message:\n",
      "\"Removed 91 rows containing missing values (position_stack).\"Warning message:\n",
      "\"Removed 91 rows containing missing values (position_stack).\"Warning message:\n",
      "\"Removed 91 rows containing missing values (position_stack).\"Warning message:\n",
      "\"Removed 1 rows containing missing values (geom_col).\"Warning message:\n",
      "\"Removed 1 rows containing missing values (geom_col).\"Warning message:\n",
      "\"Removed 1 rows containing missing values (geom_col).\""
     ]
    },
    {
     "data": {
      "image/png": "[encoded data removed]",
      "text/plain": [
       "plot without title"
      ]
     },
     "metadata": {},
     "output_type": "display_data"
    }
   ],
   "source": [
    "## Frequentist Approach\n",
    "\n",
    "# set up null hypothesis\n",
    "prob <- 0.1\n",
    "\n",
    "# null distribution - binomial distribution\n",
    "null_distrib <- dbinom(1:n, size = n, prob = prob)\n",
    "\n",
    "# select acceptance region\n",
    "acceptance_region <- null_distrib\n",
    "acceptance_region[acceptance_region < significance] = 0\n",
    "\n",
    "# select rejection region\n",
    "rejection_region <- null_distrib\n",
    "rejection_region[rejection_region > significance] = 0\n",
    "\n",
    "# select observation\n",
    "obs <- rep(0, n)\n",
    "obs[obs = y] = null_distrib[y]\n",
    "\n",
    "# store in dataframe\n",
    "df_freq <- data.frame(acceptance_region, rejection_region, obs, x)\n",
    "\n",
    "# plot\n",
    "ggplot(data = df_freq, aes(x = x)) +\n",
    "    geom_col(aes(y = acceptance_region, color = \"Acceptance\"), fill = \"gray\") +\n",
    "    geom_col(aes(y = rejection_region, color = \"Rejection\"), fill = \"gray\") +\n",
    "    geom_col(aes(y = obs, color = \"Observation\"), fill = \"gray\") +\n",
    "    \n",
    "    geom_hline(yintercept = 0.05, linetype = \"dashed\") +\n",
    "    geom_text(x = 20, y = 0.05+0.003, label = \"significace = 0.05\") +\n",
    "    labs(x = \"Number of failures\", y = \"1 - F(y)\", color = \"Regions\") +\n",
    "    theme_bw() +\n",
    "    xlim(0, 25)"
   ]
  },
  {
   "cell_type": "code",
   "execution_count": 21,
   "id": "8cb78ab7",
   "metadata": {
    "vscode": {
     "languageId": "r"
    }
   },
   "outputs": [
    {
     "name": "stderr",
     "output_type": "stream",
     "text": [
      "Warning message:\n",
      "\"Removed 375 rows containing missing values (geom_path).\""
     ]
    },
    {
     "data": {
      "image/png": "[encoded data removed]",
      "text/plain": [
       "plot without title"
      ]
     },
     "metadata": {},
     "output_type": "display_data"
    }
   ],
   "source": [
    "## Bayesian Approach\n",
    "\n",
    "# uniform prior\n",
    "p.prior <- dbeta(q, 1, 10)\n",
    "\n",
    "# compute posterior distribution\n",
    "p.post <- dbeta(q, 1+y, 10+n-y)\n",
    "\n",
    "# compute lower and upper interval\n",
    "credib_int <- qbeta(c(0.025, 0.975), 1+y, 10+n-y)\n",
    "\n",
    "# store in dataframe\n",
    "df_bayesian <- data.frame(p.post, q)\n",
    "\n",
    "# plot\n",
    "ggplot(data = df_bayesian, aes(x = q, y = p.post))+\n",
    "    geom_line() +\n",
    "    geom_vline(xintercept = credib_int[1], linetype = \"dashed\", color = \"red\") +\n",
    "    geom_vline(xintercept = credib_int[2], linetype = \"dashed\", color = \"red\") +\n",
    "    geom_vline(xintercept = 0.1, linetype = \"dashed\") +\n",
    "    geom_text(x = 0.095, y = 8, angle = 90, label = \"hypothesis = 0.1\") +\n",
    "    geom_text(x = credib_int[1]-0.005, y = 10, angle = 90, label = paste(\"Lower (0.025):\", round(credib_int[1], 3)), size = 5, color = \"red\") + \n",
    "    geom_text(x = credib_int[2]-0.005, y = 10, angle = 90, label = paste(\"Upper (0.975):\", round(credib_int[2], 3)), size = 5, color = \"red\") +     \n",
    "    labs(x = \"p\", y = \"P(p)\") +\n",
    "    theme_bw() +\n",
    "    xlim(0, 0.25)"
   ]
  },
  {
   "cell_type": "markdown",
   "id": "a99f751d",
   "metadata": {},
   "source": [
    "#### (e) find the frequentist estimator for p"
   ]
  },
  {
   "cell_type": "code",
   "execution_count": 22,
   "id": "3469058e",
   "metadata": {
    "vscode": {
     "languageId": "r"
    }
   },
   "outputs": [
    {
     "name": "stdout",
     "output_type": "stream",
     "text": [
      "Frequentist estimator of the new measurement:  0.05454545"
     ]
    }
   ],
   "source": [
    "y_new <- 9     #samples with a high bacter X level\n",
    "n_new <- 165    #samples\n",
    "\n",
    "# calculate frequentist estimator\n",
    "p_new <- y_new/n_new\n",
    "cat(\"Frequentist estimator of the new measurement: \", p_new)"
   ]
  },
  {
   "cell_type": "markdown",
   "id": "742f71c7",
   "metadata": {},
   "source": [
    "#### (f) find a bayesian estimator for p, assuming both a Beta(1, 10) prior for p, and assuming the posterior probability of the older measurement as the prior for the new one."
   ]
  },
  {
   "cell_type": "code",
   "execution_count": 26,
   "id": "52b7be37",
   "metadata": {
    "vscode": {
     "languageId": "r"
    }
   },
   "outputs": [
    {
     "name": "stdout",
     "output_type": "stream",
     "text": [
      "The bayesian estimator for p using Beta(1,10) is: 0.05681818 \n",
      "The bayesian estimator for p using the old posterior as the current prior is: 0.07191781"
     ]
    }
   ],
   "source": [
    "# assuming Beta(1, 10)\n",
    "\n",
    "alpha_new_1 <- 1 + y_new\n",
    "beta_new_1 <- 10 + n_new - y_new\n",
    "# computation of bayesian estimator\n",
    "bayesian_estimator_1 <- alpha_new_1/(alpha_new_1 + beta_new_1)\n",
    "\n",
    "# assuming previous posterior probability as prior \n",
    "alpha_new_2 <- alpha_post + y_new\n",
    "beta_new_2 <- beta_post + n_new - y_new\n",
    "# computation of bayesian estimator\n",
    "bayesian_estimator_2 <- alpha_new_2/(alpha_new_2 + beta_new_2)\n",
    "\n",
    "#Print the information\n",
    "cat(\"The bayesian estimator for p using Beta(1,10) is:\", bayesian_estimator_1, '\\n')\n",
    "cat(\"The bayesian estimator for p using the old posterior as the current prior is:\", bayesian_estimator_2)"
   ]
  },
  {
   "cell_type": "markdown",
   "id": "83688b3e",
   "metadata": {},
   "source": [
    "#### (g) find the bayesian estimator for p, the posterior mean and variance, and a 95% credible interval"
   ]
  },
  {
   "cell_type": "code",
   "execution_count": 27,
   "id": "53f9b122",
   "metadata": {
    "vscode": {
     "languageId": "r"
    }
   },
   "outputs": [
    {
     "data": {
      "text/html": [
       "<table>\n",
       "<thead><tr><th scope=col>values</th><th scope=col>beta_1_10</th><th scope=col>old_as_new</th></tr></thead>\n",
       "<tbody>\n",
       "\t<tr><td>Mean             </td><td>0.0568181818     </td><td>0.0719178082     </td></tr>\n",
       "\t<tr><td>Variance         </td><td>0.0003027677     </td><td>0.0002278008     </td></tr>\n",
       "\t<tr><td>Lower Credibility</td><td>0.0277391827     </td><td>0.0452235636     </td></tr>\n",
       "\t<tr><td>Upper credibility</td><td>0.0953801239     </td><td>0.1041519494     </td></tr>\n",
       "</tbody>\n",
       "</table>\n"
      ],
      "text/latex": [
       "\\begin{tabular}{r|lll}\n",
       " values & beta\\_1\\_10 & old\\_as\\_new\\\\\n",
       "\\hline\n",
       "\t Mean              & 0.0568181818      & 0.0719178082     \\\\\n",
       "\t Variance          & 0.0003027677      & 0.0002278008     \\\\\n",
       "\t Lower Credibility & 0.0277391827      & 0.0452235636     \\\\\n",
       "\t Upper credibility & 0.0953801239      & 0.1041519494     \\\\\n",
       "\\end{tabular}\n"
      ],
      "text/markdown": [
       "\n",
       "| values | beta_1_10 | old_as_new |\n",
       "|---|---|---|\n",
       "| Mean              | 0.0568181818      | 0.0719178082      |\n",
       "| Variance          | 0.0003027677      | 0.0002278008      |\n",
       "| Lower Credibility | 0.0277391827      | 0.0452235636      |\n",
       "| Upper credibility | 0.0953801239      | 0.1041519494      |\n",
       "\n"
      ],
      "text/plain": [
       "  values            beta_1_10    old_as_new  \n",
       "1 Mean              0.0568181818 0.0719178082\n",
       "2 Variance          0.0003027677 0.0002278008\n",
       "3 Lower Credibility 0.0277391827 0.0452235636\n",
       "4 Upper credibility 0.0953801239 0.1041519494"
      ]
     },
     "metadata": {},
     "output_type": "display_data"
    }
   ],
   "source": [
    "# calculate mean, variance and 95% credibility interval for p using Beta(1,10)\n",
    "mean_1 <- bayesian_estimator1\n",
    "var_1 <- (alpha_new1*beta_new1)/((alpha_new1+beta_new1)^2 * (alpha_new1+beta_new1+1))\n",
    "credibility_1 <- qbeta(c(0.025, 0.975), alpha_new1, beta_new1)\n",
    "\n",
    "# calculate mean, variance and 95% credibility interval for p using the old posterior probability as the prior one\n",
    "mean_2 <- bayesian_estimator2\n",
    "var_2 <- (alpha_new2*beta_new2)/((alpha_new2+beta_new2)^2 * (alpha_new2+beta_new2+1))\n",
    "credibility_2 <- qbeta(c(0.025, 0.975), alpha_new2, beta_new2)\n",
    "\n",
    "# store in dataframe\n",
    "beta_1_10 <- c(mean_1, var_1, credibility_1[1], credibility_1[2])\n",
    "old_as_new <- c(mean_2, var_2, credibility_2[1], credibility_2[2])\n",
    "values <- c(\"Mean\", \"Variance\", \"Lower Credibility\", \"Upper credibility\")\n",
    "\n",
    "df_results_g <- data.frame(values, beta_1_10, old_as_new)\n",
    "df_results_g"
   ]
  },
  {
   "cell_type": "markdown",
   "id": "eb6505a5",
   "metadata": {},
   "source": [
    "#### (h) test the hypotesis $H_{o} : p = 0.1 \\; versus \\; H_1 : p \\neq 0.1$ at 5% level of significance with both the frequentist and bayesian approach"
   ]
  },
  {
   "cell_type": "code",
   "execution_count": 31,
   "id": "545c1a92",
   "metadata": {
    "vscode": {
     "languageId": "r"
    }
   },
   "outputs": [],
   "source": [
    "## Frequentist Approach\n",
    "\n",
    "### BETA(1,10)\n",
    "\n",
    "# set up null hypothesis\n",
    "prob <- 0.1\n",
    "\n",
    "# null distribution - binomial distribution\n",
    "null_distrib_beta <- dbinom(1:n_new, size = n_new, prob = prob)\n",
    "\n",
    "# select acceptance region\n",
    "acceptance_region_1 <- null_distrib_beta\n",
    "acceptance_region_1[acceptance_region_1 < significance] = 0\n",
    "\n",
    "# select rejection region\n",
    "rejection_region_1 <- null_distrib_beta\n",
    "rejection_region_1[rejection_region_1 > significance] = 0\n",
    "\n",
    "# select observation\n",
    "obs_1 <- rep(0, n_new)\n",
    "obs_1[obs_1 = y_new] = null_distrib_beta[y_new]\n",
    "\n",
    "\n",
    "### Before posterior as new prior\n",
    "\n",
    "# null distribution - binomial distribution\n",
    "null_distrib_old_new <- dbinom(1:(n + n_new), size = (n + n_new), prob = prob)\n",
    "\n",
    "# select acceptance region\n",
    "acceptance_region_2 <- null_distrib_old_new\n",
    "acceptance_region_2[acceptance_region_2 < significance] = 0\n",
    "\n",
    "# select rejection region\n",
    "rejection_region_2 <- null_distrib_old_new\n",
    "rejection_region_2[rejection_region_2 > significance] = 0\n",
    "\n",
    "# select observation\n",
    "obs_2 <- rep(0, (n + n_new))\n",
    "obs_2[obs_2 = y+y_new] = null_distrib_old_new[y+y_new]"
   ]
  },
  {
   "cell_type": "code",
   "execution_count": 32,
   "id": "39c5989d",
   "metadata": {
    "vscode": {
     "languageId": "r"
    }
   },
   "outputs": [],
   "source": [
    "## Bayesian Approach\n",
    "\n",
    "### BETA(1,10)\n",
    "\n",
    "# compute posterior distribution\n",
    "p.post1 <- dbeta(q, 1+y_new, 10+n_new-y_new)\n",
    "\n",
    "# compute lower and upper interval\n",
    "credib_int1 <- qbeta(c(0.025, 0.975), 1+y_new, 10+n_new-y_new)\n",
    "\n",
    "\n",
    "### Before posterior as new prior\n",
    "\n",
    "# compute posterior distribution\n",
    "p.post2 <- dbeta(q, alpha_post+y_new, beta_post+n_new-y_new)\n",
    "\n",
    "# compute lower and upper interval\n",
    "credib_int2 <- qbeta(c(0.025, 0.975), alpha_post+y_new, beta_post+n_new-y_new)"
   ]
  },
  {
   "cell_type": "code",
   "execution_count": 38,
   "id": "62b3a613",
   "metadata": {},
   "outputs": [
    {
     "name": "stderr",
     "output_type": "stream",
     "text": [
      "Warning message:\n",
      "\"Removed 125 rows containing missing values (position_stack).\"Warning message:\n",
      "\"Removed 125 rows containing missing values (position_stack).\"Warning message:\n",
      "\"Removed 125 rows containing missing values (position_stack).\"Warning message:\n",
      "\"Removed 1 rows containing missing values (geom_col).\"Warning message:\n",
      "\"Removed 1 rows containing missing values (geom_col).\"Warning message:\n",
      "\"Removed 1 rows containing missing values (geom_col).\"Warning message:\n",
      "\"Removed 221 rows containing missing values (position_stack).\"Warning message:\n",
      "\"Removed 221 rows containing missing values (position_stack).\"Warning message:\n",
      "\"Removed 221 rows containing missing values (position_stack).\"Warning message:\n",
      "\"Removed 1 rows containing missing values (geom_col).\"Warning message:\n",
      "\"Removed 1 rows containing missing values (geom_col).\"Warning message:\n",
      "\"Removed 1 rows containing missing values (geom_col).\"Warning message:\n",
      "\"Removed 435 rows containing missing values (geom_path).\"Warning message:\n",
      "\"Removed 435 rows containing missing values (geom_path).\""
     ]
    },
    {
     "data": {
      "image/png": "[encoded data removed]",
      "text/plain": [
       "plot without title"
      ]
     },
     "metadata": {},
     "output_type": "display_data"
    }
   ],
   "source": [
    "x <- seq(1, n, length = n)\n",
    "\n",
    "# store in dataframe\n",
    "df_sum1 <- data.frame(acceptance_region_1, rejection_region_1, obs_1)\n",
    "df_sum2 <- data.frame(acceptance_region_2, rejection_region_2, obs_2)\n",
    "df_sum3 <- data.frame(p.post1, p.post2)\n",
    "\n",
    "\n",
    "# plots\n",
    "\n",
    "frequentist_beta_plot <- ggplot(data = df_sum1, aes(x = c(1:n_new))) +\n",
    "    geom_col(aes(y = acceptance_region_1, color = \"Acceptance\"), fill = \"gray\") +\n",
    "    geom_col(aes(y = rejection_region_1, color = \"Rejection\"), fill = \"gray\") +\n",
    "    geom_col(aes(y = obs_1, color = \"Target\"), fill = \"gray\") +\n",
    "    geom_hline(yintercept = 0.05, linetype = \"dashed\", color = \"#7b0606\") +\n",
    "    \n",
    "    geom_text(x = 30, y = 0.05+0.003, label = \"significace = 0.05\", color = \"#7b0606\") +\n",
    "    labs(x = \"Number of failures\", y = \"1 - F(y)\", color = \"Regions\") +\n",
    "    ggtitle(\"Frequentist approach using Beta(1,10) as prior\") +\n",
    "    theme_bw() +\n",
    "    xlim(0, 40)\n",
    "\n",
    "frequentist_oldasnew_plot <- ggplot(data = df_sum2, aes(x = c(1:(n + n_new)))) +\n",
    "    geom_col(aes(y = acceptance_region_2, color = \"Acceptance\"), fill = \"gray\") +\n",
    "    geom_col(aes(y = rejection_region_2, color = \"Rejection\"), fill = \"gray\") +\n",
    "    geom_col(aes(y = obs_2, color = \"Target\"), fill = \"gray\") +\n",
    "    geom_hline(yintercept = 0.05, linetype = \"dashed\", color = \"#7b0606\") + \n",
    "    \n",
    "    geom_text(x = 50, y = 0.05+0.0015, label = \"significace = 0.05\", color = \"#7b0606\") +\n",
    "    labs(x = \"Number of failures\", y = \"1 - F(y)\", color = \"Regions\") +\n",
    "    ggtitle(\"Frequentist approach using before posterior as new prior\") +\n",
    "    theme_bw() +\n",
    "    xlim(0, 60)\n",
    "\n",
    "bayesian_beta_plot <- ggplot(data = df_sum3, aes(x = q, y = p.post1))+\n",
    "    geom_line(color=\"red\") +\n",
    "    geom_vline(xintercept = credib_int1[1], linetype = \"dashed\", color = \"#a00606\") +\n",
    "    geom_vline(xintercept = credib_int1[2], linetype = \"dashed\", color = \"#a00606\") +\n",
    "    geom_vline(xintercept = 0.1, linetype = \"dashed\", color = \"steelblue\") +\n",
    "    \n",
    "    geom_text(x = 0.1-0.0025, y = 8, angle = 90, label = \"hypothesis = 0.1\", color = \"steelblue\") +\n",
    "    geom_text(x = credib_int1[1]-0.0025, y = 15, angle = 90, label = paste(\"Left (0.025):\", round(credib_int1[1], 3)), size = 4.5, color = \"#a00606\") + \n",
    "    geom_text(x = credib_int1[2]-0.0025, y = 15, angle = 90, label = paste(\"Rigth (0.975):\", round(credib_int1[2], 3)), size = 4.5, color = \"#a00606\") +     \n",
    "    labs(x = \"p\", y = \"P(p)\") +\n",
    "    theme_bw() +\n",
    "    ggtitle(\"Bayesian approach using Beta(1,10) as new prior\") +\n",
    "    xlim(0, 0.13)\n",
    "\n",
    "bayesian_oldasnew_plot <- ggplot(data = df_sum3, aes(x = q, y = p.post2))+\n",
    "    geom_line(color=\"red\") +\n",
    "    geom_vline(xintercept = credib_int2[1], linetype = \"dashed\", color = \"#a00606\") +\n",
    "    geom_vline(xintercept = credib_int2[2], linetype = \"dashed\", color = \"#a00606\") +\n",
    "    geom_vline(xintercept = 0.1, linetype = \"dashed\", color = \"steelblue\") +\n",
    "    \n",
    "    geom_text(x = 0.1-0.0025, y = 20, angle = 90, label = \"hypothesis = 0.1\", color = \"steelblue\") +\n",
    "    geom_text(x = credib_int2[1]-0.0025, y = 10, angle = 90, label = paste(\"Left (0.025):\", round(credib_int2[1], 3)), size = 4.5, color = \"#a00606\") + \n",
    "    geom_text(x = credib_int2[2]-0.0025, y = 10, angle = 90, label = paste(\"Rigth (0.975):\", round(credib_int2[2], 3)), size = 4.5, color = \"#a00606\") +     \n",
    "    labs(x = \"p\", y = \"P(p)\") +\n",
    "    theme_bw() +\n",
    "    ggtitle(\"Bayesian approach using before posterior as new prior\") +\n",
    "    xlim(0, 0.13)\n",
    "\n",
    "# grid\n",
    "grid_plot <- plot_grid(frequentist_beta_plot, frequentist_oldasnew_plot, bayesian_beta_plot, bayesian_oldasnew_plot, ncol = 2, nrow = 2)\n",
    "grid_plot"
   ]
  },
  {
   "cell_type": "markdown",
   "id": "ce6fb7d1",
   "metadata": {},
   "source": [
    "## Exercise 4\n",
    "- analyze the data of Exercise 3 and solve points (b) and (c) using a MCMC with JAGS"
   ]
  },
  {
   "cell_type": "code",
   "execution_count": 2,
   "id": "b76b31df",
   "metadata": {
    "vscode": {
     "languageId": "r"
    }
   },
   "outputs": [
    {
     "name": "stdout",
     "output_type": "stream",
     "text": [
      "Compiling model graph\n",
      "   Resolving undeclared variables\n",
      "   Allocating nodes\n",
      "Graph information:\n",
      "   Observed stochastic nodes: 1\n",
      "   Unobserved stochastic nodes: 1\n",
      "   Total graph size: 5\n",
      "\n",
      "Initializing model\n",
      "\n"
     ]
    }
   ],
   "source": [
    "##\n",
    "# https://bookdown.org/kevin_davisross/bayesian-reasoning-and-methods/introduction-to-jags.html\n",
    "##\n",
    "\n",
    "# set parameters\n",
    "n <- 116    \n",
    "y <- 11\n",
    "\n",
    "# create the model\n",
    "model_string <- \"model{\n",
    "    # Likelihood\n",
    "    y ~ dbinom(theta,n)\n",
    "\n",
    "    # Prior\n",
    "    theta ~dbeta(alpha, beta)\n",
    "    alpha <- 1\n",
    "    beta <- 10\n",
    "}\"\n",
    "\n",
    "# compile in JAGS\n",
    "datalist = list(y = y, n = n)\n",
    "model <- jags.model(file = textConnection(model_string), data = datalist)\n",
    "\n",
    "# simulate values\n",
    "update(model, n.iter = 1000)\n",
    "Nrep = 10000\n",
    "posterior <- coda.samples(model, variable.names = c(\"theta\"), n.iter = Nrep)"
   ]
  },
  {
   "cell_type": "code",
   "execution_count": 3,
   "id": "c462fd4d",
   "metadata": {
    "vscode": {
     "languageId": "r"
    }
   },
   "outputs": [
    {
     "data": {
      "text/plain": [
       "\n",
       "Iterations = 2001:12000\n",
       "Thinning interval = 1 \n",
       "Number of chains = 1 \n",
       "Sample size per chain = 10000 \n",
       "\n",
       "1. Empirical mean and standard deviation for each variable,\n",
       "   plus standard error of the mean:\n",
       "\n",
       "          Mean             SD       Naive SE Time-series SE \n",
       "     0.0947568      0.0261981      0.0002620      0.0003658 \n",
       "\n",
       "2. Quantiles for each variable:\n",
       "\n",
       "   2.5%     25%     50%     75%   97.5% \n",
       "0.05032 0.07596 0.09247 0.11056 0.15305 \n"
      ]
     },
     "metadata": {},
     "output_type": "display_data"
    },
    {
     "data": {
      "image/png": "[encoded data removed]",
      "text/plain": [
       "Plot with title “Density of theta”"
      ]
     },
     "metadata": {
      "image/png": {
       "height": 420,
       "width": 420
      }
     },
     "output_type": "display_data"
    }
   ],
   "source": [
    "# show results\n",
    "summary(posterior)\n",
    "\n",
    "# plot results\n",
    "plot(posterior)"
   ]
  },
  {
   "cell_type": "code",
   "execution_count": 5,
   "id": "71b77cec",
   "metadata": {
    "vscode": {
     "languageId": "r"
    }
   },
   "outputs": [
    {
     "ename": "ERROR",
     "evalue": "Error in plotPost(posterior): could not find function \"plotPost\"\n",
     "output_type": "error",
     "traceback": [
      "Error in plotPost(posterior): could not find function \"plotPost\"\nTraceback:\n"
     ]
    }
   ],
   "source": [
    "plotPost(posterior)"
   ]
  }
 ],
 "metadata": {
  "kernelspec": {
   "display_name": "R",
   "language": "R",
   "name": "ir"
  },
  "language_info": {
   "codemirror_mode": "r",
   "file_extension": ".r",
   "mimetype": "text/x-r-source",
   "name": "R",
   "pygments_lexer": "r",
   "version": "3.6.1"
  }
 },
 "nbformat": 4,
 "nbformat_minor": 5
}
